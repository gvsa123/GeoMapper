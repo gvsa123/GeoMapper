{
 "cells": [
  {
   "source": [
    "Calculate variance in coordinates and set acceptable radius for related events."
   ],
   "cell_type": "markdown",
   "metadata": {}
  },
  {
   "cell_type": "code",
   "execution_count": 1,
   "metadata": {},
   "outputs": [],
   "source": [
    "import pandas as pd"
   ]
  },
  {
   "cell_type": "code",
   "execution_count": 2,
   "metadata": {},
   "outputs": [],
   "source": [
    "# Generated coordinates\n",
    "list = [[(59.1421, 18.1651)], [(59.1638, 18.1317)], [(59.1545, 18.1352)], [(59.2146, 18.1665)], [(59.1921, 18.0844)], [(59.1883, 18.1672)], [(59.2161, 18.1068)], [(59.2205, 18.1567)], [(59.2211, 18.1337)], [(59.1614, 18.0918)]]"
   ]
  },
  {
   "cell_type": "code",
   "execution_count": 3,
   "metadata": {},
   "outputs": [],
   "source": [
    "lat_list = []\n",
    "lon_list = []"
   ]
  },
  {
   "cell_type": "code",
   "execution_count": 4,
   "metadata": {},
   "outputs": [],
   "source": [
    "for coord in list:\n",
    "    for lat, lon in coord:\n",
    "        lat_list.append(lat)\n",
    "        lon_list.append(lon)"
   ]
  },
  {
   "cell_type": "code",
   "execution_count": 5,
   "metadata": {},
   "outputs": [],
   "source": [
    "df = pd.DataFrame(columns=['lat', 'lon'])"
   ]
  },
  {
   "cell_type": "code",
   "execution_count": 6,
   "metadata": {},
   "outputs": [],
   "source": [
    "df['lat'] = lat_list\n",
    "df['lon'] = lon_list"
   ]
  },
  {
   "cell_type": "code",
   "execution_count": 7,
   "metadata": {},
   "outputs": [
    {
     "output_type": "execute_result",
     "data": {
      "text/plain": [
       "       lat      lon\n",
       "0  59.1421  18.1651\n",
       "1  59.1638  18.1317\n",
       "2  59.1545  18.1352\n",
       "3  59.2146  18.1665\n",
       "4  59.1921  18.0844\n",
       "5  59.1883  18.1672\n",
       "6  59.2161  18.1068\n",
       "7  59.2205  18.1567\n",
       "8  59.2211  18.1337\n",
       "9  59.1614  18.0918"
      ],
      "text/html": "<div>\n<style scoped>\n    .dataframe tbody tr th:only-of-type {\n        vertical-align: middle;\n    }\n\n    .dataframe tbody tr th {\n        vertical-align: top;\n    }\n\n    .dataframe thead th {\n        text-align: right;\n    }\n</style>\n<table border=\"1\" class=\"dataframe\">\n  <thead>\n    <tr style=\"text-align: right;\">\n      <th></th>\n      <th>lat</th>\n      <th>lon</th>\n    </tr>\n  </thead>\n  <tbody>\n    <tr>\n      <th>0</th>\n      <td>59.1421</td>\n      <td>18.1651</td>\n    </tr>\n    <tr>\n      <th>1</th>\n      <td>59.1638</td>\n      <td>18.1317</td>\n    </tr>\n    <tr>\n      <th>2</th>\n      <td>59.1545</td>\n      <td>18.1352</td>\n    </tr>\n    <tr>\n      <th>3</th>\n      <td>59.2146</td>\n      <td>18.1665</td>\n    </tr>\n    <tr>\n      <th>4</th>\n      <td>59.1921</td>\n      <td>18.0844</td>\n    </tr>\n    <tr>\n      <th>5</th>\n      <td>59.1883</td>\n      <td>18.1672</td>\n    </tr>\n    <tr>\n      <th>6</th>\n      <td>59.2161</td>\n      <td>18.1068</td>\n    </tr>\n    <tr>\n      <th>7</th>\n      <td>59.2205</td>\n      <td>18.1567</td>\n    </tr>\n    <tr>\n      <th>8</th>\n      <td>59.2211</td>\n      <td>18.1337</td>\n    </tr>\n    <tr>\n      <th>9</th>\n      <td>59.1614</td>\n      <td>18.0918</td>\n    </tr>\n  </tbody>\n</table>\n</div>"
     },
     "metadata": {},
     "execution_count": 7
    }
   ],
   "source": [
    "df"
   ]
  },
  {
   "cell_type": "code",
   "execution_count": 8,
   "metadata": {},
   "outputs": [
    {
     "output_type": "execute_result",
     "data": {
      "text/plain": [
       "             lat        lon\n",
       "count  10.000000  10.000000\n",
       "mean   59.187450  18.133910\n",
       "std     0.030157   0.030963\n",
       "min    59.142100  18.084400\n",
       "25%    59.162000  18.113025\n",
       "50%    59.190200  18.134450\n",
       "75%    59.215725  18.163000\n",
       "max    59.221100  18.167200"
      ],
      "text/html": "<div>\n<style scoped>\n    .dataframe tbody tr th:only-of-type {\n        vertical-align: middle;\n    }\n\n    .dataframe tbody tr th {\n        vertical-align: top;\n    }\n\n    .dataframe thead th {\n        text-align: right;\n    }\n</style>\n<table border=\"1\" class=\"dataframe\">\n  <thead>\n    <tr style=\"text-align: right;\">\n      <th></th>\n      <th>lat</th>\n      <th>lon</th>\n    </tr>\n  </thead>\n  <tbody>\n    <tr>\n      <th>count</th>\n      <td>10.000000</td>\n      <td>10.000000</td>\n    </tr>\n    <tr>\n      <th>mean</th>\n      <td>59.187450</td>\n      <td>18.133910</td>\n    </tr>\n    <tr>\n      <th>std</th>\n      <td>0.030157</td>\n      <td>0.030963</td>\n    </tr>\n    <tr>\n      <th>min</th>\n      <td>59.142100</td>\n      <td>18.084400</td>\n    </tr>\n    <tr>\n      <th>25%</th>\n      <td>59.162000</td>\n      <td>18.113025</td>\n    </tr>\n    <tr>\n      <th>50%</th>\n      <td>59.190200</td>\n      <td>18.134450</td>\n    </tr>\n    <tr>\n      <th>75%</th>\n      <td>59.215725</td>\n      <td>18.163000</td>\n    </tr>\n    <tr>\n      <th>max</th>\n      <td>59.221100</td>\n      <td>18.167200</td>\n    </tr>\n  </tbody>\n</table>\n</div>"
     },
     "metadata": {},
     "execution_count": 8
    }
   ],
   "source": [
    "df.describe()"
   ]
  },
  {
   "cell_type": "code",
   "execution_count": 9,
   "metadata": {},
   "outputs": [
    {
     "output_type": "execute_result",
     "data": {
      "text/plain": [
       "          lat       lon\n",
       "lat  0.000909  0.000038\n",
       "lon  0.000038  0.000959"
      ],
      "text/html": "<div>\n<style scoped>\n    .dataframe tbody tr th:only-of-type {\n        vertical-align: middle;\n    }\n\n    .dataframe tbody tr th {\n        vertical-align: top;\n    }\n\n    .dataframe thead th {\n        text-align: right;\n    }\n</style>\n<table border=\"1\" class=\"dataframe\">\n  <thead>\n    <tr style=\"text-align: right;\">\n      <th></th>\n      <th>lat</th>\n      <th>lon</th>\n    </tr>\n  </thead>\n  <tbody>\n    <tr>\n      <th>lat</th>\n      <td>0.000909</td>\n      <td>0.000038</td>\n    </tr>\n    <tr>\n      <th>lon</th>\n      <td>0.000038</td>\n      <td>0.000959</td>\n    </tr>\n  </tbody>\n</table>\n</div>"
     },
     "metadata": {},
     "execution_count": 9
    }
   ],
   "source": [
    "df.cov()"
   ]
  },
  {
   "cell_type": "code",
   "execution_count": 10,
   "metadata": {},
   "outputs": [
    {
     "output_type": "execute_result",
     "data": {
      "text/plain": [
       "0.030157300571797857"
      ]
     },
     "metadata": {},
     "execution_count": 10
    }
   ],
   "source": [
    "# Use standard deviation to determine proximity of locations?\n",
    "df.std()['lat']"
   ]
  },
  {
   "cell_type": "code",
   "execution_count": 11,
   "metadata": {},
   "outputs": [],
   "source": [
    "ipdf = pd.read_csv(\n",
    "    './geomapping/data/failed_logins.csv',\n",
    "    delimiter='\\t',\n",
    "    names=['id', 'user_id', 'user_login', 'failed_login_date', 'login_attempt_ip']\n",
    ")"
   ]
  },
  {
   "cell_type": "code",
   "execution_count": 12,
   "metadata": {},
   "outputs": [
    {
     "output_type": "execute_result",
     "data": {
      "text/plain": [
       "(5744, 5)"
      ]
     },
     "metadata": {},
     "execution_count": 12
    }
   ],
   "source": [
    "ipdf.shape"
   ]
  },
  {
   "cell_type": "code",
   "execution_count": 13,
   "metadata": {},
   "outputs": [],
   "source": [
    "ipdf.drop_duplicates(subset='login_attempt_ip', inplace=True)"
   ]
  },
  {
   "cell_type": "code",
   "execution_count": 14,
   "metadata": {},
   "outputs": [],
   "source": [
    "ip_list = ipdf['login_attempt_ip'].tolist()"
   ]
  },
  {
   "cell_type": "code",
   "execution_count": 15,
   "metadata": {},
   "outputs": [
    {
     "output_type": "execute_result",
     "data": {
      "text/plain": [
       "2687"
      ]
     },
     "metadata": {},
     "execution_count": 15
    }
   ],
   "source": [
    "len(ip_list)"
   ]
  },
  {
   "cell_type": "code",
   "execution_count": 16,
   "metadata": {},
   "outputs": [],
   "source": [
    "short_list = ip_list[:50]"
   ]
  },
  {
   "cell_type": "code",
   "execution_count": 17,
   "metadata": {},
   "outputs": [
    {
     "output_type": "execute_result",
     "data": {
      "text/plain": [
       "['34.73.140.66',\n",
       " '35.200.165.142',\n",
       " '45.119.212.150',\n",
       " '18.220.230.76',\n",
       " '80.241.140.29',\n",
       " '129.204.214.202',\n",
       " '159.65.100.77',\n",
       " '159.69.109.9',\n",
       " '35.247.161.205',\n",
       " '144.217.192.207',\n",
       " '3.120.188.156',\n",
       " '45.119.83.154',\n",
       " '82.221.143.15',\n",
       " '157.230.108.13',\n",
       " '34.234.105.120',\n",
       " '35.202.135.255',\n",
       " '27.254.95.167',\n",
       " '148.72.23.24',\n",
       " '185.104.106.72',\n",
       " '128.199.254.22',\n",
       " '13.59.80.109',\n",
       " '52.60.160.242',\n",
       " '18.196.237.23',\n",
       " '35.184.171.7',\n",
       " '51.38.68.11',\n",
       " '134.175.130.47',\n",
       " '18.191.155.227',\n",
       " '138.68.21.195',\n",
       " '138.197.150.253',\n",
       " '27.254.144.146',\n",
       " '35.178.62.12',\n",
       " '18.206.175.134',\n",
       " '52.11.95.206',\n",
       " '178.128.115.78',\n",
       " '209.128.68.132',\n",
       " '68.183.35.77',\n",
       " '178.128.215.136',\n",
       " '18.191.29.98',\n",
       " '13.115.34.63',\n",
       " '78.142.211.30',\n",
       " '206.189.36.106',\n",
       " '52.27.176.249',\n",
       " '35.180.39.118',\n",
       " '3.80.0.44',\n",
       " '184.107.218.106',\n",
       " '35.227.57.72',\n",
       " '176.219.3.55',\n",
       " '34.80.178.40',\n",
       " '34.220.94.26',\n",
       " '185.179.24.32']"
      ]
     },
     "metadata": {},
     "execution_count": 17
    }
   ],
   "source": [
    "short_list"
   ]
  },
  {
   "cell_type": "code",
   "execution_count": 18,
   "metadata": {},
   "outputs": [
    {
     "output_type": "error",
     "ename": "FileNotFoundError",
     "evalue": "[Errno 2] No such file or directory: './Data/short_list.p'",
     "traceback": [
      "\u001b[0;31m---------------------------------------------------------------------------\u001b[0m",
      "\u001b[0;31mFileNotFoundError\u001b[0m                         Traceback (most recent call last)",
      "\u001b[0;32m<ipython-input-18-c474c8d74fc3>\u001b[0m in \u001b[0;36m<module>\u001b[0;34m\u001b[0m\n\u001b[1;32m      1\u001b[0m \u001b[0;32mimport\u001b[0m \u001b[0mpickle\u001b[0m\u001b[0;34m\u001b[0m\u001b[0;34m\u001b[0m\u001b[0m\n\u001b[0;32m----> 2\u001b[0;31m \u001b[0mpickle\u001b[0m\u001b[0;34m.\u001b[0m\u001b[0mdump\u001b[0m\u001b[0;34m(\u001b[0m\u001b[0mshort_list\u001b[0m\u001b[0;34m,\u001b[0m \u001b[0mopen\u001b[0m\u001b[0;34m(\u001b[0m\u001b[0;34m'./Data/short_list.p'\u001b[0m\u001b[0;34m,\u001b[0m \u001b[0;34m'wb'\u001b[0m\u001b[0;34m)\u001b[0m\u001b[0;34m)\u001b[0m\u001b[0;34m\u001b[0m\u001b[0;34m\u001b[0m\u001b[0m\n\u001b[0m",
      "\u001b[0;31mFileNotFoundError\u001b[0m: [Errno 2] No such file or directory: './Data/short_list.p'"
     ]
    }
   ],
   "source": [
    "import pickle\n",
    "pickle.dump(short_list, open('./Data/short_list.p', 'wb'))"
   ]
  }
 ],
 "metadata": {
  "kernelspec": {
   "display_name": "Python 3",
   "language": "python",
   "name": "python3"
  },
  "language_info": {
   "codemirror_mode": {
    "name": "ipython",
    "version": 3
   },
   "file_extension": ".py",
   "mimetype": "text/x-python",
   "name": "python",
   "nbconvert_exporter": "python",
   "pygments_lexer": "ipython3",
   "version": "3.8.3-final"
  }
 },
 "nbformat": 4,
 "nbformat_minor": 4
}
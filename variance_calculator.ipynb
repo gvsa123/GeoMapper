{
 "cells": [
  {
   "cell_type": "code",
   "execution_count": 1,
   "metadata": {},
   "outputs": [],
   "source": [
    "import pandas as pd"
   ]
  },
  {
   "cell_type": "code",
   "execution_count": 2,
   "metadata": {},
   "outputs": [],
   "source": [
    "list = [[(59.1421, 18.1651)], [(59.1638, 18.1317)], [(59.1545, 18.1352)], [(59.2146, 18.1665)], [(59.1921, 18.0844)], [(59.1883, 18.1672)], [(59.2161, 18.1068)], [(59.2205, 18.1567)], [(59.2211, 18.1337)], [(59.1614, 18.0918)]]"
   ]
  },
  {
   "cell_type": "code",
   "execution_count": 3,
   "metadata": {},
   "outputs": [],
   "source": [
    "lat_list = []\n",
    "lon_list = []"
   ]
  },
  {
   "cell_type": "code",
   "execution_count": 4,
   "metadata": {},
   "outputs": [],
   "source": [
    "for coord in list:\n",
    "    for lat, lon in coord:\n",
    "        lat_list.append(lat)\n",
    "        lon_list.append(lon)"
   ]
  },
  {
   "cell_type": "code",
   "execution_count": 5,
   "metadata": {},
   "outputs": [],
   "source": [
    "df = pd.DataFrame(columns=['lat', 'lon'])"
   ]
  },
  {
   "cell_type": "code",
   "execution_count": 6,
   "metadata": {},
   "outputs": [],
   "source": [
    "df['lat'] = lat_list\n",
    "df['lon'] = lon_list"
   ]
  },
  {
   "cell_type": "code",
   "execution_count": 7,
   "metadata": {},
   "outputs": [
    {
     "output_type": "execute_result",
     "data": {
      "text/plain": [
       "       lat      lon\n",
       "0  59.1421  18.1651\n",
       "1  59.1638  18.1317\n",
       "2  59.1545  18.1352\n",
       "3  59.2146  18.1665\n",
       "4  59.1921  18.0844\n",
       "5  59.1883  18.1672\n",
       "6  59.2161  18.1068\n",
       "7  59.2205  18.1567\n",
       "8  59.2211  18.1337\n",
       "9  59.1614  18.0918"
      ],
      "text/html": "<div>\n<style scoped>\n    .dataframe tbody tr th:only-of-type {\n        vertical-align: middle;\n    }\n\n    .dataframe tbody tr th {\n        vertical-align: top;\n    }\n\n    .dataframe thead th {\n        text-align: right;\n    }\n</style>\n<table border=\"1\" class=\"dataframe\">\n  <thead>\n    <tr style=\"text-align: right;\">\n      <th></th>\n      <th>lat</th>\n      <th>lon</th>\n    </tr>\n  </thead>\n  <tbody>\n    <tr>\n      <th>0</th>\n      <td>59.1421</td>\n      <td>18.1651</td>\n    </tr>\n    <tr>\n      <th>1</th>\n      <td>59.1638</td>\n      <td>18.1317</td>\n    </tr>\n    <tr>\n      <th>2</th>\n      <td>59.1545</td>\n      <td>18.1352</td>\n    </tr>\n    <tr>\n      <th>3</th>\n      <td>59.2146</td>\n      <td>18.1665</td>\n    </tr>\n    <tr>\n      <th>4</th>\n      <td>59.1921</td>\n      <td>18.0844</td>\n    </tr>\n    <tr>\n      <th>5</th>\n      <td>59.1883</td>\n      <td>18.1672</td>\n    </tr>\n    <tr>\n      <th>6</th>\n      <td>59.2161</td>\n      <td>18.1068</td>\n    </tr>\n    <tr>\n      <th>7</th>\n      <td>59.2205</td>\n      <td>18.1567</td>\n    </tr>\n    <tr>\n      <th>8</th>\n      <td>59.2211</td>\n      <td>18.1337</td>\n    </tr>\n    <tr>\n      <th>9</th>\n      <td>59.1614</td>\n      <td>18.0918</td>\n    </tr>\n  </tbody>\n</table>\n</div>"
     },
     "metadata": {},
     "execution_count": 7
    }
   ],
   "source": [
    "df"
   ]
  },
  {
   "cell_type": "code",
   "execution_count": 8,
   "metadata": {},
   "outputs": [
    {
     "output_type": "execute_result",
     "data": {
      "text/plain": [
       "             lat        lon\n",
       "count  10.000000  10.000000\n",
       "mean   59.187450  18.133910\n",
       "std     0.030157   0.030963\n",
       "min    59.142100  18.084400\n",
       "25%    59.162000  18.113025\n",
       "50%    59.190200  18.134450\n",
       "75%    59.215725  18.163000\n",
       "max    59.221100  18.167200"
      ],
      "text/html": "<div>\n<style scoped>\n    .dataframe tbody tr th:only-of-type {\n        vertical-align: middle;\n    }\n\n    .dataframe tbody tr th {\n        vertical-align: top;\n    }\n\n    .dataframe thead th {\n        text-align: right;\n    }\n</style>\n<table border=\"1\" class=\"dataframe\">\n  <thead>\n    <tr style=\"text-align: right;\">\n      <th></th>\n      <th>lat</th>\n      <th>lon</th>\n    </tr>\n  </thead>\n  <tbody>\n    <tr>\n      <th>count</th>\n      <td>10.000000</td>\n      <td>10.000000</td>\n    </tr>\n    <tr>\n      <th>mean</th>\n      <td>59.187450</td>\n      <td>18.133910</td>\n    </tr>\n    <tr>\n      <th>std</th>\n      <td>0.030157</td>\n      <td>0.030963</td>\n    </tr>\n    <tr>\n      <th>min</th>\n      <td>59.142100</td>\n      <td>18.084400</td>\n    </tr>\n    <tr>\n      <th>25%</th>\n      <td>59.162000</td>\n      <td>18.113025</td>\n    </tr>\n    <tr>\n      <th>50%</th>\n      <td>59.190200</td>\n      <td>18.134450</td>\n    </tr>\n    <tr>\n      <th>75%</th>\n      <td>59.215725</td>\n      <td>18.163000</td>\n    </tr>\n    <tr>\n      <th>max</th>\n      <td>59.221100</td>\n      <td>18.167200</td>\n    </tr>\n  </tbody>\n</table>\n</div>"
     },
     "metadata": {},
     "execution_count": 8
    }
   ],
   "source": [
    "df.describe()"
   ]
  },
  {
   "cell_type": "code",
   "execution_count": 9,
   "metadata": {},
   "outputs": [
    {
     "output_type": "execute_result",
     "data": {
      "text/plain": [
       "          lat       lon\n",
       "lat  0.000909  0.000038\n",
       "lon  0.000038  0.000959"
      ],
      "text/html": "<div>\n<style scoped>\n    .dataframe tbody tr th:only-of-type {\n        vertical-align: middle;\n    }\n\n    .dataframe tbody tr th {\n        vertical-align: top;\n    }\n\n    .dataframe thead th {\n        text-align: right;\n    }\n</style>\n<table border=\"1\" class=\"dataframe\">\n  <thead>\n    <tr style=\"text-align: right;\">\n      <th></th>\n      <th>lat</th>\n      <th>lon</th>\n    </tr>\n  </thead>\n  <tbody>\n    <tr>\n      <th>lat</th>\n      <td>0.000909</td>\n      <td>0.000038</td>\n    </tr>\n    <tr>\n      <th>lon</th>\n      <td>0.000038</td>\n      <td>0.000959</td>\n    </tr>\n  </tbody>\n</table>\n</div>"
     },
     "metadata": {},
     "execution_count": 9
    }
   ],
   "source": [
    "df.cov()"
   ]
  },
  {
   "cell_type": "code",
   "execution_count": 10,
   "metadata": {},
   "outputs": [
    {
     "output_type": "execute_result",
     "data": {
      "text/plain": [
       "0.030157300571797857"
      ]
     },
     "metadata": {},
     "execution_count": 10
    }
   ],
   "source": [
    "# Use standard deviation to determine proximity of locations?\n",
    "df.std()['lat']"
   ]
  },
  {
   "cell_type": "code",
   "execution_count": 30,
   "metadata": {},
   "outputs": [],
   "source": [
    "ipdf = pd.read_csv(\n",
    "    './Data/failed_logins.csv',\n",
    "    delimiter='\\t',\n",
    "    names=['id', 'user_id', 'user_login', 'failed_login_date', 'login_attempt_ip']\n",
    ")"
   ]
  },
  {
   "cell_type": "code",
   "execution_count": 31,
   "metadata": {},
   "outputs": [
    {
     "output_type": "execute_result",
     "data": {
      "text/plain": [
       "        id  user_id user_login    failed_login_date login_attempt_ip\n",
       "0        1        1     girard  2019-03-24 16:07:33     34.73.140.66\n",
       "1        2        1     girard  2019-03-24 16:25:20   35.200.165.142\n",
       "2        3        1     girard  2019-03-24 16:44:33   45.119.212.150\n",
       "3        4        1     girard  2019-03-24 16:57:16    18.220.230.76\n",
       "4        5        1     girard  2019-03-24 17:09:34    80.241.140.29\n",
       "...    ...      ...        ...                  ...              ...\n",
       "5739  5740        1     girard  2020-12-13 02:40:25  185.220.102.248\n",
       "5740  5741        1     girard  2020-12-13 06:04:03    158.69.253.57\n",
       "5741  5742        1     girard  2020-12-20 08:09:35     192.95.30.65\n",
       "5742  5743        1     girard  2020-12-20 11:21:05   188.165.194.99\n",
       "5743  5744        1     girard  2020-12-20 15:14:38     192.95.30.59\n",
       "\n",
       "[5744 rows x 5 columns]"
      ],
      "text/html": "<div>\n<style scoped>\n    .dataframe tbody tr th:only-of-type {\n        vertical-align: middle;\n    }\n\n    .dataframe tbody tr th {\n        vertical-align: top;\n    }\n\n    .dataframe thead th {\n        text-align: right;\n    }\n</style>\n<table border=\"1\" class=\"dataframe\">\n  <thead>\n    <tr style=\"text-align: right;\">\n      <th></th>\n      <th>id</th>\n      <th>user_id</th>\n      <th>user_login</th>\n      <th>failed_login_date</th>\n      <th>login_attempt_ip</th>\n    </tr>\n  </thead>\n  <tbody>\n    <tr>\n      <th>0</th>\n      <td>1</td>\n      <td>1</td>\n      <td>girard</td>\n      <td>2019-03-24 16:07:33</td>\n      <td>34.73.140.66</td>\n    </tr>\n    <tr>\n      <th>1</th>\n      <td>2</td>\n      <td>1</td>\n      <td>girard</td>\n      <td>2019-03-24 16:25:20</td>\n      <td>35.200.165.142</td>\n    </tr>\n    <tr>\n      <th>2</th>\n      <td>3</td>\n      <td>1</td>\n      <td>girard</td>\n      <td>2019-03-24 16:44:33</td>\n      <td>45.119.212.150</td>\n    </tr>\n    <tr>\n      <th>3</th>\n      <td>4</td>\n      <td>1</td>\n      <td>girard</td>\n      <td>2019-03-24 16:57:16</td>\n      <td>18.220.230.76</td>\n    </tr>\n    <tr>\n      <th>4</th>\n      <td>5</td>\n      <td>1</td>\n      <td>girard</td>\n      <td>2019-03-24 17:09:34</td>\n      <td>80.241.140.29</td>\n    </tr>\n    <tr>\n      <th>...</th>\n      <td>...</td>\n      <td>...</td>\n      <td>...</td>\n      <td>...</td>\n      <td>...</td>\n    </tr>\n    <tr>\n      <th>5739</th>\n      <td>5740</td>\n      <td>1</td>\n      <td>girard</td>\n      <td>2020-12-13 02:40:25</td>\n      <td>185.220.102.248</td>\n    </tr>\n    <tr>\n      <th>5740</th>\n      <td>5741</td>\n      <td>1</td>\n      <td>girard</td>\n      <td>2020-12-13 06:04:03</td>\n      <td>158.69.253.57</td>\n    </tr>\n    <tr>\n      <th>5741</th>\n      <td>5742</td>\n      <td>1</td>\n      <td>girard</td>\n      <td>2020-12-20 08:09:35</td>\n      <td>192.95.30.65</td>\n    </tr>\n    <tr>\n      <th>5742</th>\n      <td>5743</td>\n      <td>1</td>\n      <td>girard</td>\n      <td>2020-12-20 11:21:05</td>\n      <td>188.165.194.99</td>\n    </tr>\n    <tr>\n      <th>5743</th>\n      <td>5744</td>\n      <td>1</td>\n      <td>girard</td>\n      <td>2020-12-20 15:14:38</td>\n      <td>192.95.30.59</td>\n    </tr>\n  </tbody>\n</table>\n<p>5744 rows × 5 columns</p>\n</div>"
     },
     "metadata": {},
     "execution_count": 31
    }
   ],
   "source": [
    "ipdf"
   ]
  },
  {
   "cell_type": "code",
   "execution_count": 37,
   "metadata": {},
   "outputs": [],
   "source": [
    "ipdf.drop_duplicates(subset='login_attempt_ip', inplace=True)"
   ]
  },
  {
   "cell_type": "code",
   "execution_count": 38,
   "metadata": {},
   "outputs": [],
   "source": [
    "ip_list = ipdf['login_attempt_ip'].tolist()"
   ]
  },
  {
   "cell_type": "code",
   "execution_count": 39,
   "metadata": {},
   "outputs": [
    {
     "output_type": "execute_result",
     "data": {
      "text/plain": [
       "2687"
      ]
     },
     "metadata": {},
     "execution_count": 39
    }
   ],
   "source": [
    "len(ip_list)"
   ]
  },
  {
   "cell_type": "code",
   "execution_count": 41,
   "metadata": {},
   "outputs": [],
   "source": [
    "short_list = ip_list[:50]"
   ]
  },
  {
   "cell_type": "code",
   "execution_count": 42,
   "metadata": {},
   "outputs": [
    {
     "output_type": "execute_result",
     "data": {
      "text/plain": [
       "['34.73.140.66',\n",
       " '35.200.165.142',\n",
       " '45.119.212.150',\n",
       " '18.220.230.76',\n",
       " '80.241.140.29',\n",
       " '129.204.214.202',\n",
       " '159.65.100.77',\n",
       " '159.69.109.9',\n",
       " '35.247.161.205',\n",
       " '144.217.192.207',\n",
       " '3.120.188.156',\n",
       " '45.119.83.154',\n",
       " '82.221.143.15',\n",
       " '157.230.108.13',\n",
       " '34.234.105.120',\n",
       " '35.202.135.255',\n",
       " '27.254.95.167',\n",
       " '148.72.23.24',\n",
       " '185.104.106.72',\n",
       " '128.199.254.22',\n",
       " '13.59.80.109',\n",
       " '52.60.160.242',\n",
       " '18.196.237.23',\n",
       " '35.184.171.7',\n",
       " '51.38.68.11',\n",
       " '134.175.130.47',\n",
       " '18.191.155.227',\n",
       " '138.68.21.195',\n",
       " '138.197.150.253',\n",
       " '27.254.144.146',\n",
       " '35.178.62.12',\n",
       " '18.206.175.134',\n",
       " '52.11.95.206',\n",
       " '178.128.115.78',\n",
       " '209.128.68.132',\n",
       " '68.183.35.77',\n",
       " '178.128.215.136',\n",
       " '18.191.29.98',\n",
       " '13.115.34.63',\n",
       " '78.142.211.30',\n",
       " '206.189.36.106',\n",
       " '52.27.176.249',\n",
       " '35.180.39.118',\n",
       " '3.80.0.44',\n",
       " '184.107.218.106',\n",
       " '35.227.57.72',\n",
       " '176.219.3.55',\n",
       " '34.80.178.40',\n",
       " '34.220.94.26',\n",
       " '185.179.24.32']"
      ]
     },
     "metadata": {},
     "execution_count": 42
    }
   ],
   "source": [
    "short_list"
   ]
  },
  {
   "cell_type": "code",
   "execution_count": 43,
   "metadata": {},
   "outputs": [],
   "source": [
    "import pickle\n",
    "pickle.dump(short_list, open('./Data/short_list.p', 'wb'))"
   ]
  }
 ],
 "metadata": {
  "kernelspec": {
   "display_name": "Python 3",
   "language": "python",
   "name": "python3"
  },
  "language_info": {
   "codemirror_mode": {
    "name": "ipython",
    "version": 3
   },
   "file_extension": ".py",
   "mimetype": "text/x-python",
   "name": "python",
   "nbconvert_exporter": "python",
   "pygments_lexer": "ipython3",
   "version": "3.8.3-final"
  }
 },
 "nbformat": 4,
 "nbformat_minor": 4
}